{
 "cells": [
  {
   "cell_type": "code",
   "execution_count": 1,
   "metadata": {},
   "outputs": [],
   "source": [
    "import os\n",
    "import json\n",
    "import numpy as np\n",
    "import cv2\n",
    "from labelme.utils import shape_to_mask"
   ]
  },
  {
   "cell_type": "code",
   "execution_count": 2,
   "metadata": {},
   "outputs": [],
   "source": [
    "LABEL_COLORS = {\n",
    "    \"pawn\": (255, 0, 0),        # Đỏ\n",
    "    \"knight\": (0, 255, 0),      # Xanh lá\n",
    "    \"bishop\": (0, 0, 255),      # Xanh dương\n",
    "    \"rook\": (255, 255, 0),      # Vàng\n",
    "    \"queen\": (255, 0, 255),     # Hồng\n",
    "    \"king\": (0, 255, 255)       # Xanh lục bảo\n",
    "}"
   ]
  },
  {
   "cell_type": "code",
   "execution_count": 3,
   "metadata": {},
   "outputs": [],
   "source": [
    "def json_to_colored_mask(json_path, output_dir, img_size=(512, 512)):\n",
    "    with open(json_path, \"r\") as f:\n",
    "        data = json.load(f)\n",
    "\n",
    "    img_path = os.path.join(os.path.dirname(json_path), data[\"imagePath\"])\n",
    "    image = cv2.imread(img_path)\n",
    "    h, w = image.shape[:2]\n",
    "\n",
    "    # Tạo mask ảnh màu với 3 kênh (mặc định là đen)\n",
    "    mask = np.zeros((h, w, 3), dtype=np.uint8)\n",
    "\n",
    "    for shape in data[\"shapes\"]:\n",
    "        label = shape[\"label\"]\n",
    "        if label in LABEL_COLORS:\n",
    "            color = LABEL_COLORS[label]  # Lấy màu RGB của nhãn\n",
    "            points = np.array(shape[\"points\"], dtype=np.int32)\n",
    "\n",
    "            color = LABEL_COLORS[label][::-1]\n",
    "\n",
    "            # Điền màu vào mask\n",
    "            cv2.fillPoly(mask, [points], color=color)\n",
    "\n",
    "    # Resize mask về kích thước chuẩn\n",
    "    # mask_resized = cv2.resize(mask, img_size, interpolation=cv2.INTER_NEAREST)\n",
    "\n",
    "    # Lưu mask màu thành ảnh PNG\n",
    "    mask_path = os.path.join(output_dir, os.path.basename(json_path).replace(\".json\", \".png\"))\n",
    "    cv2.imwrite(mask_path, mask)\n"
   ]
  },
  {
   "cell_type": "code",
   "execution_count": 9,
   "metadata": {},
   "outputs": [],
   "source": [
    "input_dir = \"./ChessPieces_Dataset/train/Knight\"\n",
    "output_dir = \"./mask/Knight\"\n",
    "os.makedirs(output_dir, exist_ok=True)\n",
    "\n",
    "for file in os.listdir(input_dir):\n",
    "    if file.endswith(\".json\"):\n",
    "        json_to_colored_mask(os.path.join(input_dir, file), output_dir)"
   ]
  },
  {
   "cell_type": "code",
   "execution_count": 7,
   "metadata": {},
   "outputs": [
    {
     "name": "stdout",
     "output_type": "stream",
     "text": [
      "Số lượng file JSON đã cập nhật: 360\n"
     ]
    }
   ],
   "source": [
    "import os\n",
    "import json\n",
    "\n",
    "# Thư mục chứa các file JSON\n",
    "json_folder = \"./ChessPieces_Dataset/train/Pawn\"  # Thay bằng đường dẫn thư mục thực tế\n",
    "\n",
    "# Đếm số lượng file đã cập nhật\n",
    "updated_count = 0\n",
    "\n",
    "# Duyệt qua tất cả các file trong thư mục\n",
    "for filename in os.listdir(json_folder):\n",
    "    if filename.endswith(\".json\"):  # Chỉ xử lý file JSON\n",
    "        file_path = os.path.join(json_folder, filename)\n",
    "\n",
    "        # Đọc nội dung file JSON\n",
    "        with open(file_path, \"r\", encoding=\"utf-8\") as file:\n",
    "            data = json.load(file)\n",
    "\n",
    "        # Kiểm tra và cập nhật \"imagePath\"\n",
    "        if \"imagePath\" in data:\n",
    "            original_path = data[\"imagePath\"]\n",
    "            new_path = os.path.basename(original_path)  # Lấy phần tên file\n",
    "\n",
    "            if new_path != original_path:  # Kiểm tra xem có cần cập nhật không\n",
    "                data[\"imagePath\"] = new_path\n",
    "                updated_count += 1\n",
    "\n",
    "                # Ghi lại file JSON đã chỉnh sửa\n",
    "                with open(file_path, \"w\", encoding=\"utf-8\") as file:\n",
    "                    json.dump(data, file, indent=4, ensure_ascii=False)\n",
    "\n",
    "# In ra số lượng file đã cập nhật\n",
    "print(f\"Số lượng file JSON đã cập nhật: {updated_count}\")\n"
   ]
  },
  {
   "cell_type": "code",
   "execution_count": 21,
   "metadata": {},
   "outputs": [
    {
     "name": "stdout",
     "output_type": "stream",
     "text": [
      "✅ Đã copy 312 ảnh vào ./images/Bishop\n"
     ]
    }
   ],
   "source": [
    "import os\n",
    "import shutil\n",
    "\n",
    "# Đường dẫn đến thư mục dataset ban đầu\n",
    "dataset_dir = \"./ChessPieces_Dataset/train/Bishop\"  # Thư mục chứa 2520 ảnh gốc\n",
    "output_dir = \"./images/Bishop\"  # Thư mục mới chỉ chứa ảnh\n",
    "\n",
    "# Tạo thư mục nếu chưa tồn tại\n",
    "os.makedirs(output_dir, exist_ok=True)\n",
    "\n",
    "# Duyệt qua tất cả file JSON trong dataset gốc\n",
    "for file in os.listdir(dataset_dir):\n",
    "    if file.endswith(\".json\"):  # Nếu file là annotation JSON\n",
    "        image_path = os.path.join(dataset_dir, file.replace(\".json\", \".jpg\"))  # Giả sử ảnh có đuôi .jpg\n",
    "        \n",
    "        # Kiểm tra nếu ảnh tồn tại\n",
    "        if os.path.exists(image_path):\n",
    "            # Copy ảnh sang thư mục mới\n",
    "            shutil.copy(image_path, os.path.join(output_dir, file.replace(\".json\", \".jpg\")))\n",
    "\n",
    "print(f\"✅ Đã copy {len(os.listdir(output_dir))} ảnh vào {output_dir}\")\n"
   ]
  },
  {
   "cell_type": "code",
   "execution_count": 23,
   "metadata": {},
   "outputs": [
    {
     "name": "stdout",
     "output_type": "stream",
     "text": [
      "✅ Bishop: 249 train, 31 val, 32 test\n",
      "✅ King: 280 train, 35 val, 35 test\n",
      "✅ Knight: 243 train, 30 val, 31 test\n",
      "✅ Pawn: 288 train, 36 val, 36 test\n",
      "✅ Queen: 240 train, 30 val, 30 test\n",
      "✅ Rook: 240 train, 30 val, 30 test\n",
      "🎯 Hoàn thành chia dữ liệu!\n"
     ]
    }
   ],
   "source": [
    "import os\n",
    "import shutil\n",
    "import random\n",
    "\n",
    "# Đường dẫn đến thư mục chứa ảnh và mask\n",
    "image_dir = \"./images\"\n",
    "mask_dir = \"./masks\"\n",
    "output_dir = \"./dataset_split\"\n",
    "\n",
    "# Tạo thư mục train/val/test cho cả ảnh gốc và mask\n",
    "splits = [\"train\", \"val\", \"test\"]\n",
    "for split in splits:\n",
    "    os.makedirs(os.path.join(output_dir, split, \"images\"), exist_ok=True)\n",
    "    os.makedirs(os.path.join(output_dir, split, \"masks\"), exist_ok=True)\n",
    "\n",
    "# Danh sách các lớp (tên thư mục)\n",
    "classes = sorted(os.listdir(image_dir))  # [\"Bishop\", \"King\", \"Knight\", \"Pawn\", \"Queen\", \"Rook\"]\n",
    "\n",
    "# Chia dữ liệu cho từng lớp\n",
    "for class_name in classes:\n",
    "    class_image_dir = os.path.join(image_dir, class_name)\n",
    "    class_mask_dir = os.path.join(mask_dir, class_name)\n",
    "\n",
    "    # Lấy danh sách ảnh có mask tương ứng\n",
    "    image_files = [f for f in os.listdir(class_image_dir) if f.endswith(\".jpg\") or f.endswith(\".png\")]\n",
    "    image_files = [f for f in image_files if os.path.exists(os.path.join(class_mask_dir, f.replace(\".jpg\", \".png\")))]\n",
    "\n",
    "    # Xáo trộn danh sách ảnh để tránh bias\n",
    "    random.shuffle(image_files)\n",
    "\n",
    "    # Chia theo tỷ lệ 80% train, 10% val, 10% test\n",
    "    total = len(image_files)\n",
    "    train_size = int(0.8 * total)\n",
    "    val_size = int(0.1 * total)\n",
    "    test_size = total - train_size - val_size\n",
    "\n",
    "    # Hàm copy ảnh và mask vào tập train/val/test\n",
    "    def copy_data(files, split):\n",
    "        for file in files:\n",
    "            img_src = os.path.join(class_image_dir, file)\n",
    "            mask_src = os.path.join(class_mask_dir, file.replace(\".jpg\", \".png\"))\n",
    "\n",
    "            img_dst = os.path.join(output_dir, split, \"images\", file)\n",
    "            mask_dst = os.path.join(output_dir, split, \"masks\", file.replace(\".jpg\", \".png\"))\n",
    "\n",
    "            shutil.copy(img_src, img_dst)\n",
    "            shutil.copy(mask_src, mask_dst)\n",
    "\n",
    "    # Copy ảnh vào các tập train/val/test\n",
    "    copy_data(image_files[:train_size], \"train\")\n",
    "    copy_data(image_files[train_size:train_size + val_size], \"val\")\n",
    "    copy_data(image_files[train_size + val_size:], \"test\")\n",
    "\n",
    "    print(f\"✅ {class_name}: {train_size} train, {val_size} val, {test_size} test\")\n",
    "\n",
    "print(\"🎯 Hoàn thành chia dữ liệu!\")"
   ]
  }
 ],
 "metadata": {
  "kernelspec": {
   "display_name": "Python 3",
   "language": "python",
   "name": "python3"
  },
  "language_info": {
   "codemirror_mode": {
    "name": "ipython",
    "version": 3
   },
   "file_extension": ".py",
   "mimetype": "text/x-python",
   "name": "python",
   "nbconvert_exporter": "python",
   "pygments_lexer": "ipython3",
   "version": "3.12.0"
  }
 },
 "nbformat": 4,
 "nbformat_minor": 2
}
